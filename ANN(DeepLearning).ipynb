{
 "cells": [
  {
   "cell_type": "code",
   "execution_count": 1,
   "id": "50094e16-42b2-4c9e-accb-cd7f3a322c8f",
   "metadata": {},
   "outputs": [],
   "source": [
    "import numpy as np\n",
    "import pandas as pd"
   ]
  },
  {
   "cell_type": "code",
   "execution_count": 2,
   "id": "70e1bafb-b0f7-4922-8178-6b8cb8f978c5",
   "metadata": {},
   "outputs": [],
   "source": [
    "data = pd.read_csv('/Users/kanchanjot/Desktop/datasets/data1.csv')\n",
    "label = pd.read_csv('/Users/kanchanjot/Desktop/datasets/label1.csv') "
   ]
  },
  {
   "cell_type": "code",
   "execution_count": 3,
   "id": "93589449-8f15-4c5d-bb9a-41eaaaf0ce5e",
   "metadata": {},
   "outputs": [
    {
     "data": {
      "text/html": [
       "<div>\n",
       "<style scoped>\n",
       "    .dataframe tbody tr th:only-of-type {\n",
       "        vertical-align: middle;\n",
       "    }\n",
       "\n",
       "    .dataframe tbody tr th {\n",
       "        vertical-align: top;\n",
       "    }\n",
       "\n",
       "    .dataframe thead th {\n",
       "        text-align: right;\n",
       "    }\n",
       "</style>\n",
       "<table border=\"1\" class=\"dataframe\">\n",
       "  <thead>\n",
       "    <tr style=\"text-align: right;\">\n",
       "      <th></th>\n",
       "      <th>3</th>\n",
       "    </tr>\n",
       "  </thead>\n",
       "  <tbody>\n",
       "    <tr>\n",
       "      <th>0</th>\n",
       "      <td>2</td>\n",
       "    </tr>\n",
       "    <tr>\n",
       "      <th>1</th>\n",
       "      <td>2</td>\n",
       "    </tr>\n",
       "    <tr>\n",
       "      <th>2</th>\n",
       "      <td>3</td>\n",
       "    </tr>\n",
       "    <tr>\n",
       "      <th>3</th>\n",
       "      <td>3</td>\n",
       "    </tr>\n",
       "    <tr>\n",
       "      <th>4</th>\n",
       "      <td>3</td>\n",
       "    </tr>\n",
       "    <tr>\n",
       "      <th>...</th>\n",
       "      <td>...</td>\n",
       "    </tr>\n",
       "    <tr>\n",
       "      <th>19994</th>\n",
       "      <td>3</td>\n",
       "    </tr>\n",
       "    <tr>\n",
       "      <th>19995</th>\n",
       "      <td>1</td>\n",
       "    </tr>\n",
       "    <tr>\n",
       "      <th>19996</th>\n",
       "      <td>2</td>\n",
       "    </tr>\n",
       "    <tr>\n",
       "      <th>19997</th>\n",
       "      <td>2</td>\n",
       "    </tr>\n",
       "    <tr>\n",
       "      <th>19998</th>\n",
       "      <td>0</td>\n",
       "    </tr>\n",
       "  </tbody>\n",
       "</table>\n",
       "<p>19999 rows × 1 columns</p>\n",
       "</div>"
      ],
      "text/plain": [
       "       3\n",
       "0      2\n",
       "1      2\n",
       "2      3\n",
       "3      3\n",
       "4      3\n",
       "...   ..\n",
       "19994  3\n",
       "19995  1\n",
       "19996  2\n",
       "19997  2\n",
       "19998  0\n",
       "\n",
       "[19999 rows x 1 columns]"
      ]
     },
     "execution_count": 3,
     "metadata": {},
     "output_type": "execute_result"
    }
   ],
   "source": [
    "label # label is divided into classes"
   ]
  },
  {
   "cell_type": "code",
   "execution_count": 4,
   "id": "3e893478-ca80-453c-90fd-445c052962fb",
   "metadata": {},
   "outputs": [
    {
     "data": {
      "text/html": [
       "<div>\n",
       "<style scoped>\n",
       "    .dataframe tbody tr th:only-of-type {\n",
       "        vertical-align: middle;\n",
       "    }\n",
       "\n",
       "    .dataframe tbody tr th {\n",
       "        vertical-align: top;\n",
       "    }\n",
       "\n",
       "    .dataframe thead th {\n",
       "        text-align: right;\n",
       "    }\n",
       "</style>\n",
       "<table border=\"1\" class=\"dataframe\">\n",
       "  <thead>\n",
       "    <tr style=\"text-align: right;\">\n",
       "      <th></th>\n",
       "      <th>-0.4468911094795388</th>\n",
       "      <th>-0.01339702165138184</th>\n",
       "      <th>0.23264493204847725</th>\n",
       "      <th>2.1566488376889117</th>\n",
       "      <th>1.6529232891493573</th>\n",
       "      <th>-0.21053079266527167</th>\n",
       "      <th>-0.6622270851236525</th>\n",
       "      <th>0.7051439522485349</th>\n",
       "      <th>1.4346837198721623</th>\n",
       "      <th>-0.4457503016296182</th>\n",
       "      <th>-0.178501071015899</th>\n",
       "      <th>-0.9055033666934242</th>\n",
       "      <th>-0.5940992077798437</th>\n",
       "      <th>-0.7285856024160755</th>\n",
       "      <th>-0.6270024414706785</th>\n",
       "      <th>-0.24051957960329318</th>\n",
       "      <th>0.13169638426367006</th>\n",
       "      <th>-0.9458780890459899</th>\n",
       "      <th>1.8409218915918133</th>\n",
       "      <th>-0.2790240402533812</th>\n",
       "    </tr>\n",
       "  </thead>\n",
       "  <tbody>\n",
       "    <tr>\n",
       "      <th>0</th>\n",
       "      <td>0.243747</td>\n",
       "      <td>-1.144175</td>\n",
       "      <td>-0.622214</td>\n",
       "      <td>-0.661979</td>\n",
       "      <td>-0.373315</td>\n",
       "      <td>0.520313</td>\n",
       "      <td>-1.307954</td>\n",
       "      <td>1.639481</td>\n",
       "      <td>-2.838816</td>\n",
       "      <td>0.331636</td>\n",
       "      <td>0.100261</td>\n",
       "      <td>-1.173067</td>\n",
       "      <td>-0.079774</td>\n",
       "      <td>2.194899</td>\n",
       "      <td>0.242839</td>\n",
       "      <td>0.412164</td>\n",
       "      <td>-0.328714</td>\n",
       "      <td>0.902931</td>\n",
       "      <td>-1.418728</td>\n",
       "      <td>-0.290139</td>\n",
       "    </tr>\n",
       "    <tr>\n",
       "      <th>1</th>\n",
       "      <td>-1.417799</td>\n",
       "      <td>-0.088833</td>\n",
       "      <td>-0.647181</td>\n",
       "      <td>-1.141497</td>\n",
       "      <td>-1.321100</td>\n",
       "      <td>0.686798</td>\n",
       "      <td>-1.045569</td>\n",
       "      <td>-0.376153</td>\n",
       "      <td>-2.272447</td>\n",
       "      <td>-0.669733</td>\n",
       "      <td>-1.070732</td>\n",
       "      <td>1.091993</td>\n",
       "      <td>0.692293</td>\n",
       "      <td>0.937617</td>\n",
       "      <td>0.262142</td>\n",
       "      <td>0.399238</td>\n",
       "      <td>0.614614</td>\n",
       "      <td>1.209465</td>\n",
       "      <td>-1.526386</td>\n",
       "      <td>0.337771</td>\n",
       "    </tr>\n",
       "    <tr>\n",
       "      <th>2</th>\n",
       "      <td>0.656784</td>\n",
       "      <td>0.381201</td>\n",
       "      <td>-1.039011</td>\n",
       "      <td>1.285315</td>\n",
       "      <td>0.808324</td>\n",
       "      <td>1.428519</td>\n",
       "      <td>-1.144367</td>\n",
       "      <td>-0.609958</td>\n",
       "      <td>0.983676</td>\n",
       "      <td>0.060917</td>\n",
       "      <td>0.471647</td>\n",
       "      <td>-0.594279</td>\n",
       "      <td>2.104027</td>\n",
       "      <td>-1.113597</td>\n",
       "      <td>-0.188799</td>\n",
       "      <td>1.226253</td>\n",
       "      <td>-1.067763</td>\n",
       "      <td>-0.350275</td>\n",
       "      <td>-0.746426</td>\n",
       "      <td>-1.258696</td>\n",
       "    </tr>\n",
       "    <tr>\n",
       "      <th>3</th>\n",
       "      <td>1.098520</td>\n",
       "      <td>1.706769</td>\n",
       "      <td>-1.030370</td>\n",
       "      <td>2.001009</td>\n",
       "      <td>2.751551</td>\n",
       "      <td>1.202229</td>\n",
       "      <td>-0.941066</td>\n",
       "      <td>1.965282</td>\n",
       "      <td>2.979131</td>\n",
       "      <td>1.402483</td>\n",
       "      <td>-1.432987</td>\n",
       "      <td>0.400322</td>\n",
       "      <td>-0.839851</td>\n",
       "      <td>-1.580974</td>\n",
       "      <td>-0.659587</td>\n",
       "      <td>2.292688</td>\n",
       "      <td>0.494188</td>\n",
       "      <td>-1.583187</td>\n",
       "      <td>-2.468254</td>\n",
       "      <td>-0.469648</td>\n",
       "    </tr>\n",
       "    <tr>\n",
       "      <th>4</th>\n",
       "      <td>-0.035569</td>\n",
       "      <td>1.481734</td>\n",
       "      <td>1.693223</td>\n",
       "      <td>1.437399</td>\n",
       "      <td>0.822527</td>\n",
       "      <td>-1.344757</td>\n",
       "      <td>-2.833138</td>\n",
       "      <td>-0.066823</td>\n",
       "      <td>0.440819</td>\n",
       "      <td>-2.746223</td>\n",
       "      <td>0.396444</td>\n",
       "      <td>0.584890</td>\n",
       "      <td>0.529624</td>\n",
       "      <td>-1.389421</td>\n",
       "      <td>0.441056</td>\n",
       "      <td>-0.543496</td>\n",
       "      <td>1.357878</td>\n",
       "      <td>0.064575</td>\n",
       "      <td>-0.114624</td>\n",
       "      <td>-0.824641</td>\n",
       "    </tr>\n",
       "    <tr>\n",
       "      <th>...</th>\n",
       "      <td>...</td>\n",
       "      <td>...</td>\n",
       "      <td>...</td>\n",
       "      <td>...</td>\n",
       "      <td>...</td>\n",
       "      <td>...</td>\n",
       "      <td>...</td>\n",
       "      <td>...</td>\n",
       "      <td>...</td>\n",
       "      <td>...</td>\n",
       "      <td>...</td>\n",
       "      <td>...</td>\n",
       "      <td>...</td>\n",
       "      <td>...</td>\n",
       "      <td>...</td>\n",
       "      <td>...</td>\n",
       "      <td>...</td>\n",
       "      <td>...</td>\n",
       "      <td>...</td>\n",
       "      <td>...</td>\n",
       "    </tr>\n",
       "    <tr>\n",
       "      <th>19994</th>\n",
       "      <td>0.146324</td>\n",
       "      <td>-0.618555</td>\n",
       "      <td>0.547413</td>\n",
       "      <td>0.851301</td>\n",
       "      <td>0.838880</td>\n",
       "      <td>-1.248402</td>\n",
       "      <td>0.698199</td>\n",
       "      <td>-0.545033</td>\n",
       "      <td>0.994348</td>\n",
       "      <td>-0.054620</td>\n",
       "      <td>0.581239</td>\n",
       "      <td>-1.842074</td>\n",
       "      <td>-0.552879</td>\n",
       "      <td>-0.102096</td>\n",
       "      <td>0.307538</td>\n",
       "      <td>-1.267832</td>\n",
       "      <td>-0.165875</td>\n",
       "      <td>-0.717397</td>\n",
       "      <td>-0.808588</td>\n",
       "      <td>0.796346</td>\n",
       "    </tr>\n",
       "    <tr>\n",
       "      <th>19995</th>\n",
       "      <td>-2.227923</td>\n",
       "      <td>-0.327196</td>\n",
       "      <td>1.258849</td>\n",
       "      <td>-0.945254</td>\n",
       "      <td>3.925262</td>\n",
       "      <td>0.316686</td>\n",
       "      <td>-1.061159</td>\n",
       "      <td>1.846706</td>\n",
       "      <td>3.692157</td>\n",
       "      <td>0.698035</td>\n",
       "      <td>-0.184239</td>\n",
       "      <td>-0.546036</td>\n",
       "      <td>-0.457919</td>\n",
       "      <td>-1.030581</td>\n",
       "      <td>2.406014</td>\n",
       "      <td>-0.978943</td>\n",
       "      <td>-0.086879</td>\n",
       "      <td>-1.964453</td>\n",
       "      <td>-0.875574</td>\n",
       "      <td>1.535930</td>\n",
       "    </tr>\n",
       "    <tr>\n",
       "      <th>19996</th>\n",
       "      <td>-0.800405</td>\n",
       "      <td>1.477997</td>\n",
       "      <td>0.090057</td>\n",
       "      <td>-0.973997</td>\n",
       "      <td>-0.204970</td>\n",
       "      <td>0.224539</td>\n",
       "      <td>0.302265</td>\n",
       "      <td>0.361146</td>\n",
       "      <td>-1.906636</td>\n",
       "      <td>1.381875</td>\n",
       "      <td>0.034366</td>\n",
       "      <td>1.690199</td>\n",
       "      <td>-0.901569</td>\n",
       "      <td>2.183842</td>\n",
       "      <td>0.831008</td>\n",
       "      <td>0.036308</td>\n",
       "      <td>0.516088</td>\n",
       "      <td>0.378670</td>\n",
       "      <td>0.110968</td>\n",
       "      <td>-0.176363</td>\n",
       "    </tr>\n",
       "    <tr>\n",
       "      <th>19997</th>\n",
       "      <td>-1.217344</td>\n",
       "      <td>-0.785401</td>\n",
       "      <td>-0.413781</td>\n",
       "      <td>-0.335324</td>\n",
       "      <td>0.181671</td>\n",
       "      <td>-1.685733</td>\n",
       "      <td>-0.437981</td>\n",
       "      <td>-1.176626</td>\n",
       "      <td>-1.434436</td>\n",
       "      <td>-0.880986</td>\n",
       "      <td>2.117703</td>\n",
       "      <td>-2.136842</td>\n",
       "      <td>-1.185261</td>\n",
       "      <td>1.547704</td>\n",
       "      <td>1.174712</td>\n",
       "      <td>-0.429117</td>\n",
       "      <td>0.132068</td>\n",
       "      <td>0.249277</td>\n",
       "      <td>-0.941496</td>\n",
       "      <td>1.661661</td>\n",
       "    </tr>\n",
       "    <tr>\n",
       "      <th>19998</th>\n",
       "      <td>1.601005</td>\n",
       "      <td>-0.890398</td>\n",
       "      <td>-1.425049</td>\n",
       "      <td>0.887501</td>\n",
       "      <td>0.167205</td>\n",
       "      <td>-0.395042</td>\n",
       "      <td>-0.512554</td>\n",
       "      <td>0.050777</td>\n",
       "      <td>-0.034945</td>\n",
       "      <td>-0.289219</td>\n",
       "      <td>0.639189</td>\n",
       "      <td>0.981751</td>\n",
       "      <td>-0.110296</td>\n",
       "      <td>-0.187214</td>\n",
       "      <td>-0.226811</td>\n",
       "      <td>-0.547772</td>\n",
       "      <td>-0.006706</td>\n",
       "      <td>-0.023773</td>\n",
       "      <td>1.220809</td>\n",
       "      <td>1.489330</td>\n",
       "    </tr>\n",
       "  </tbody>\n",
       "</table>\n",
       "<p>19999 rows × 20 columns</p>\n",
       "</div>"
      ],
      "text/plain": [
       "       -0.4468911094795388  -0.01339702165138184  0.23264493204847725  \\\n",
       "0                 0.243747             -1.144175            -0.622214   \n",
       "1                -1.417799             -0.088833            -0.647181   \n",
       "2                 0.656784              0.381201            -1.039011   \n",
       "3                 1.098520              1.706769            -1.030370   \n",
       "4                -0.035569              1.481734             1.693223   \n",
       "...                    ...                   ...                  ...   \n",
       "19994             0.146324             -0.618555             0.547413   \n",
       "19995            -2.227923             -0.327196             1.258849   \n",
       "19996            -0.800405              1.477997             0.090057   \n",
       "19997            -1.217344             -0.785401            -0.413781   \n",
       "19998             1.601005             -0.890398            -1.425049   \n",
       "\n",
       "       2.1566488376889117  1.6529232891493573  -0.21053079266527167  \\\n",
       "0               -0.661979           -0.373315              0.520313   \n",
       "1               -1.141497           -1.321100              0.686798   \n",
       "2                1.285315            0.808324              1.428519   \n",
       "3                2.001009            2.751551              1.202229   \n",
       "4                1.437399            0.822527             -1.344757   \n",
       "...                   ...                 ...                   ...   \n",
       "19994            0.851301            0.838880             -1.248402   \n",
       "19995           -0.945254            3.925262              0.316686   \n",
       "19996           -0.973997           -0.204970              0.224539   \n",
       "19997           -0.335324            0.181671             -1.685733   \n",
       "19998            0.887501            0.167205             -0.395042   \n",
       "\n",
       "       -0.6622270851236525  0.7051439522485349  1.4346837198721623  \\\n",
       "0                -1.307954            1.639481           -2.838816   \n",
       "1                -1.045569           -0.376153           -2.272447   \n",
       "2                -1.144367           -0.609958            0.983676   \n",
       "3                -0.941066            1.965282            2.979131   \n",
       "4                -2.833138           -0.066823            0.440819   \n",
       "...                    ...                 ...                 ...   \n",
       "19994             0.698199           -0.545033            0.994348   \n",
       "19995            -1.061159            1.846706            3.692157   \n",
       "19996             0.302265            0.361146           -1.906636   \n",
       "19997            -0.437981           -1.176626           -1.434436   \n",
       "19998            -0.512554            0.050777           -0.034945   \n",
       "\n",
       "       -0.4457503016296182  -0.178501071015899  -0.9055033666934242  \\\n",
       "0                 0.331636            0.100261            -1.173067   \n",
       "1                -0.669733           -1.070732             1.091993   \n",
       "2                 0.060917            0.471647            -0.594279   \n",
       "3                 1.402483           -1.432987             0.400322   \n",
       "4                -2.746223            0.396444             0.584890   \n",
       "...                    ...                 ...                  ...   \n",
       "19994            -0.054620            0.581239            -1.842074   \n",
       "19995             0.698035           -0.184239            -0.546036   \n",
       "19996             1.381875            0.034366             1.690199   \n",
       "19997            -0.880986            2.117703            -2.136842   \n",
       "19998            -0.289219            0.639189             0.981751   \n",
       "\n",
       "       -0.5940992077798437  -0.7285856024160755  -0.6270024414706785  \\\n",
       "0                -0.079774             2.194899             0.242839   \n",
       "1                 0.692293             0.937617             0.262142   \n",
       "2                 2.104027            -1.113597            -0.188799   \n",
       "3                -0.839851            -1.580974            -0.659587   \n",
       "4                 0.529624            -1.389421             0.441056   \n",
       "...                    ...                  ...                  ...   \n",
       "19994            -0.552879            -0.102096             0.307538   \n",
       "19995            -0.457919            -1.030581             2.406014   \n",
       "19996            -0.901569             2.183842             0.831008   \n",
       "19997            -1.185261             1.547704             1.174712   \n",
       "19998            -0.110296            -0.187214            -0.226811   \n",
       "\n",
       "       -0.24051957960329318  0.13169638426367006  -0.9458780890459899  \\\n",
       "0                  0.412164            -0.328714             0.902931   \n",
       "1                  0.399238             0.614614             1.209465   \n",
       "2                  1.226253            -1.067763            -0.350275   \n",
       "3                  2.292688             0.494188            -1.583187   \n",
       "4                 -0.543496             1.357878             0.064575   \n",
       "...                     ...                  ...                  ...   \n",
       "19994             -1.267832            -0.165875            -0.717397   \n",
       "19995             -0.978943            -0.086879            -1.964453   \n",
       "19996              0.036308             0.516088             0.378670   \n",
       "19997             -0.429117             0.132068             0.249277   \n",
       "19998             -0.547772            -0.006706            -0.023773   \n",
       "\n",
       "       1.8409218915918133  -0.2790240402533812  \n",
       "0               -1.418728            -0.290139  \n",
       "1               -1.526386             0.337771  \n",
       "2               -0.746426            -1.258696  \n",
       "3               -2.468254            -0.469648  \n",
       "4               -0.114624            -0.824641  \n",
       "...                   ...                  ...  \n",
       "19994           -0.808588             0.796346  \n",
       "19995           -0.875574             1.535930  \n",
       "19996            0.110968            -0.176363  \n",
       "19997           -0.941496             1.661661  \n",
       "19998            1.220809             1.489330  \n",
       "\n",
       "[19999 rows x 20 columns]"
      ]
     },
     "execution_count": 4,
     "metadata": {},
     "output_type": "execute_result"
    }
   ],
   "source": [
    "data"
   ]
  },
  {
   "cell_type": "code",
   "execution_count": 5,
   "id": "b839bb48-1222-429b-9bb1-bc6b483ae0ce",
   "metadata": {},
   "outputs": [],
   "source": [
    "data = data.values\n",
    "label = label.values"
   ]
  },
  {
   "cell_type": "code",
   "execution_count": 6,
   "id": "f18a5e5a-4abf-4336-88fd-58a27bf47071",
   "metadata": {},
   "outputs": [
    {
     "name": "stdout",
     "output_type": "stream",
     "text": [
      "(19999, 20) (19999, 1)\n"
     ]
    }
   ],
   "source": [
    "print(data.shape , label.shape)"
   ]
  },
  {
   "cell_type": "code",
   "execution_count": 7,
   "id": "439a2928-fba4-4966-8bee-3b261b8b5e25",
   "metadata": {},
   "outputs": [
    {
     "data": {
      "text/plain": [
       "array([0, 1, 2, 3, 4])"
      ]
     },
     "execution_count": 7,
     "metadata": {},
     "output_type": "execute_result"
    }
   ],
   "source": [
    "np.unique(label)"
   ]
  },
  {
   "cell_type": "code",
   "execution_count": 8,
   "id": "a5a388ba-98c5-429c-9985-99f07f6a9877",
   "metadata": {},
   "outputs": [],
   "source": [
    "vec_len = np.max(label) + 1"
   ]
  },
  {
   "cell_type": "code",
   "execution_count": 9,
   "id": "aea048b1-1ca5-4956-b76a-2dabf7ad9aa0",
   "metadata": {},
   "outputs": [
    {
     "data": {
      "text/plain": [
       "5"
      ]
     },
     "execution_count": 9,
     "metadata": {},
     "output_type": "execute_result"
    }
   ],
   "source": [
    "vec_len"
   ]
  },
  {
   "cell_type": "code",
   "execution_count": 10,
   "id": "712e672c-743c-4496-9a98-344e036fb1aa",
   "metadata": {},
   "outputs": [],
   "source": [
    "onehot_labels = np.eye(vec_len)[label]"
   ]
  },
  {
   "cell_type": "code",
   "execution_count": 11,
   "id": "727abe2c-d0ec-4f91-8538-35ffef8232b8",
   "metadata": {},
   "outputs": [
    {
     "data": {
      "text/plain": [
       "(19999, 1, 5)"
      ]
     },
     "execution_count": 11,
     "metadata": {},
     "output_type": "execute_result"
    }
   ],
   "source": [
    "onehot_labels.shape"
   ]
  },
  {
   "cell_type": "code",
   "execution_count": 12,
   "id": "f864b20f-aa0a-43b1-8cff-8163e2aeee0a",
   "metadata": {},
   "outputs": [
    {
     "data": {
      "text/plain": [
       "array([[[0., 0., 1., 0., 0.]],\n",
       "\n",
       "       [[0., 0., 1., 0., 0.]],\n",
       "\n",
       "       [[0., 0., 0., 1., 0.]],\n",
       "\n",
       "       ...,\n",
       "\n",
       "       [[0., 0., 1., 0., 0.]],\n",
       "\n",
       "       [[0., 0., 1., 0., 0.]],\n",
       "\n",
       "       [[1., 0., 0., 0., 0.]]])"
      ]
     },
     "execution_count": 12,
     "metadata": {},
     "output_type": "execute_result"
    }
   ],
   "source": [
    "onehot_labels"
   ]
  },
  {
   "cell_type": "code",
   "execution_count": 13,
   "id": "087ee8e2-1dd1-407e-bd31-febff1d807c6",
   "metadata": {},
   "outputs": [],
   "source": [
    "onehot_labels = onehot_labels.reshape(19999,5)"
   ]
  },
  {
   "cell_type": "code",
   "execution_count": 14,
   "id": "79ace26d-7cd7-4448-8f57-89f8872ae73f",
   "metadata": {},
   "outputs": [
    {
     "data": {
      "text/plain": [
       "array([[0., 0., 1., 0., 0.],\n",
       "       [0., 0., 1., 0., 0.],\n",
       "       [0., 0., 0., 1., 0.],\n",
       "       ...,\n",
       "       [0., 0., 1., 0., 0.],\n",
       "       [0., 0., 1., 0., 0.],\n",
       "       [1., 0., 0., 0., 0.]])"
      ]
     },
     "execution_count": 14,
     "metadata": {},
     "output_type": "execute_result"
    }
   ],
   "source": [
    "onehot_labels"
   ]
  },
  {
   "cell_type": "code",
   "execution_count": 15,
   "id": "b9a725a8-8f83-4b88-91e3-922b9794254d",
   "metadata": {},
   "outputs": [
    {
     "data": {
      "text/plain": [
       "(19999, 5)"
      ]
     },
     "execution_count": 15,
     "metadata": {},
     "output_type": "execute_result"
    }
   ],
   "source": [
    "onehot_labels.shape"
   ]
  },
  {
   "cell_type": "code",
   "execution_count": 16,
   "id": "5f1d5863-7332-4a48-a391-f36e04d7e9f6",
   "metadata": {},
   "outputs": [],
   "source": [
    "split = 0.8\n",
    "\n",
    "\n",
    "trainData = data[: int(split * data.shape[0]), :]\n",
    "trainlabel = onehot_labels[: int(split * data.shape[0]), :]\n",
    "\n",
    "rem_data = data[int(split * data.shape[0]):, :]\n",
    "rem_label = onehot_labels[int(split * data.shape[0]):, :]\n"
   ]
  },
  {
   "cell_type": "code",
   "execution_count": 17,
   "id": "946adfbd-5419-40ef-9897-179dfc5dae41",
   "metadata": {},
   "outputs": [
    {
     "name": "stdout",
     "output_type": "stream",
     "text": [
      "(15999, 20) (15999, 5) (4000, 20) (4000, 5)\n"
     ]
    }
   ],
   "source": [
    "print(trainData.shape , trainlabel.shape , rem_data.shape, rem_label.shape)"
   ]
  },
  {
   "cell_type": "code",
   "execution_count": 18,
   "id": "e3fa9848-2a61-4110-9b1e-b359555e04ac",
   "metadata": {},
   "outputs": [],
   "source": [
    "testData = rem_data[: int(0.5 * rem_data.shape[0]), :]\n",
    "testlabel = rem_label[: int(0.5 * rem_label.shape[0]), :]\n",
    "validData = rem_data[int(0.5 * rem_data.shape[0]):, :]\n",
    "validlabel = rem_label[int(0.5 * rem_label.shape[0]):, :]"
   ]
  },
  {
   "cell_type": "code",
   "execution_count": 19,
   "id": "f3e713f5-c4fa-4f4e-81a2-5d77d7728b02",
   "metadata": {},
   "outputs": [
    {
     "name": "stdout",
     "output_type": "stream",
     "text": [
      "(2000, 20) (2000, 20) (2000, 5) (2000, 5)\n"
     ]
    }
   ],
   "source": [
    "print(testData.shape ,validData.shape , testlabel.shape,  validlabel.shape)"
   ]
  },
  {
   "cell_type": "code",
   "execution_count": 20,
   "id": "02965659-4963-4b7c-956f-80d2b3ecabe1",
   "metadata": {},
   "outputs": [],
   "source": [
    "hidden_neuron = 12"
   ]
  },
  {
   "cell_type": "code",
   "execution_count": 21,
   "id": "1e7a9d2d-4789-4edd-aed7-ac385fcaa8b1",
   "metadata": {},
   "outputs": [
    {
     "name": "stdout",
     "output_type": "stream",
     "text": [
      "[0. 0. 0. 0. 0. 0. 0. 0. 0. 0. 0. 0.] [0. 0. 0. 0. 0.]\n"
     ]
    }
   ],
   "source": [
    "b1 = np.zeros(hidden_neuron)\n",
    "b2 = np.zeros(5)\n",
    "\n",
    "print(b1, b2)"
   ]
  },
  {
   "cell_type": "code",
   "execution_count": 22,
   "id": "b662f8f7-b993-4f3a-8b10-fd0abdcef70a",
   "metadata": {},
   "outputs": [],
   "source": [
    "w1 = np.random.normal(0,1,(20,12))\n",
    "w2 = np.random.normal(0,1, (hidden_neuron,5))"
   ]
  },
  {
   "cell_type": "code",
   "execution_count": 23,
   "id": "67b807ba-3912-49e0-b9e5-9511c450c792",
   "metadata": {},
   "outputs": [],
   "source": [
    "def activation(data, choice):\n",
    "    if choice == 0:\n",
    "        return np.tanh(data)\n",
    "    else:\n",
    "        numerator = np.exp(data)\n",
    "        return numerator/np.sum(numerator , axis=1 , keepdims=True)\n",
    "        "
   ]
  },
  {
   "cell_type": "code",
   "execution_count": 24,
   "id": "40f05051-3098-44c7-b920-e028ab8e710a",
   "metadata": {},
   "outputs": [],
   "source": [
    "alpha = 0.03"
   ]
  },
  {
   "cell_type": "code",
   "execution_count": 25,
   "id": "5e6cbb6c-20ef-4e88-b82f-51c96f2793d0",
   "metadata": {},
   "outputs": [],
   "source": [
    "batch = 500"
   ]
  },
  {
   "cell_type": "code",
   "execution_count": 26,
   "id": "2610dfba-6210-4bae-a896-e4a1f247b1f6",
   "metadata": {},
   "outputs": [],
   "source": [
    "def cost_func(pred , label):\n",
    "    return -(label * np.log(pred) + (1-label) * np.log(1- pred))"
   ]
  },
  {
   "cell_type": "code",
   "execution_count": 27,
   "id": "c9075122-cf64-47b4-9d1d-440b0e772472",
   "metadata": {},
   "outputs": [],
   "source": [
    "def forward_prop(data):\n",
    "    a0 = data \n",
    "    z1 = np.dot(a0, w1) + b1 \n",
    "    a1 = activation(z1, 0)\n",
    "    z2 = np.dot(a1,w2) + b2\n",
    "    a2 = activation(z2 , 1)\n",
    "    return a0 , z1 , a1 , z2, a2"
   ]
  },
  {
   "cell_type": "code",
   "execution_count": 28,
   "id": "8f20491f-fe2e-46ba-8224-3d98651920e4",
   "metadata": {},
   "outputs": [],
   "source": [
    "def accuracy(pred, label, size):\n",
    "    max_num = np.argmax(pred, axis=1)\n",
    "    max_label = np.argmax(label , axis=1)\n",
    "    compare  = np.equal(max_data ,max_label)\n",
    "\n",
    "    return (np.sum(compare)/size)*100\n",
    "    "
   ]
  },
  {
   "cell_type": "code",
   "execution_count": 29,
   "id": "81fc865b-dd36-461f-b211-699d3a404f73",
   "metadata": {},
   "outputs": [],
   "source": [
    "epochs = 100 "
   ]
  },
  {
   "cell_type": "code",
   "execution_count": 30,
   "id": "ab6c4244-fc0e-45da-aa5e-3f91bdd3d16e",
   "metadata": {},
   "outputs": [
    {
     "ename": "NameError",
     "evalue": "name 'max_data' is not defined",
     "output_type": "error",
     "traceback": [
      "\u001b[0;31m---------------------------------------------------------------------------\u001b[0m",
      "\u001b[0;31mNameError\u001b[0m                                 Traceback (most recent call last)",
      "Cell \u001b[0;32mIn[30], line 18\u001b[0m\n\u001b[1;32m     16\u001b[0m b2 \u001b[38;5;241m=\u001b[39m b2 \u001b[38;5;241m-\u001b[39m alpha \u001b[38;5;241m*\u001b[39m dcdb2 \n\u001b[1;32m     17\u001b[0m a0 , z1 , a1 , z2, a2 \u001b[38;5;241m=\u001b[39m forward_prop(trainData[num_batch \u001b[38;5;241m*\u001b[39m batch: (num_batch\u001b[38;5;241m+\u001b[39m\u001b[38;5;241m1\u001b[39m)\u001b[38;5;241m*\u001b[39mbatch,:])\n\u001b[0;32m---> 18\u001b[0m \u001b[38;5;28mprint\u001b[39m(\u001b[38;5;124m'\u001b[39m\u001b[38;5;124mTraining Accuracy : \u001b[39m\u001b[38;5;124m'\u001b[39m,\u001b[43maccuracy\u001b[49m\u001b[43m(\u001b[49m\u001b[43ma2\u001b[49m\u001b[43m,\u001b[49m\u001b[43mtrainlabel\u001b[49m\u001b[43m,\u001b[49m\u001b[43mtrainData\u001b[49m\u001b[38;5;241;43m.\u001b[39;49m\u001b[43mshape\u001b[49m\u001b[43m[\u001b[49m\u001b[38;5;241;43m0\u001b[39;49m\u001b[43m]\u001b[49m\u001b[43m)\u001b[49m)\n",
      "Cell \u001b[0;32mIn[28], line 4\u001b[0m, in \u001b[0;36maccuracy\u001b[0;34m(pred, label, size)\u001b[0m\n\u001b[1;32m      2\u001b[0m max_num \u001b[38;5;241m=\u001b[39m np\u001b[38;5;241m.\u001b[39margmax(pred, axis\u001b[38;5;241m=\u001b[39m\u001b[38;5;241m1\u001b[39m)\n\u001b[1;32m      3\u001b[0m max_label \u001b[38;5;241m=\u001b[39m np\u001b[38;5;241m.\u001b[39margmax(label , axis\u001b[38;5;241m=\u001b[39m\u001b[38;5;241m1\u001b[39m)\n\u001b[0;32m----> 4\u001b[0m compare  \u001b[38;5;241m=\u001b[39m np\u001b[38;5;241m.\u001b[39mequal(\u001b[43mmax_data\u001b[49m ,max_label)\n\u001b[1;32m      6\u001b[0m \u001b[38;5;28;01mreturn\u001b[39;00m (np\u001b[38;5;241m.\u001b[39msum(compare)\u001b[38;5;241m/\u001b[39msize)\u001b[38;5;241m*\u001b[39m\u001b[38;5;241m100\u001b[39m\n",
      "\u001b[0;31mNameError\u001b[0m: name 'max_data' is not defined"
     ]
    }
   ],
   "source": [
    "for epoch in range(epochs):\n",
    "\n",
    "    for num_batch in range(int(trainData.shape[0]/batch)):\n",
    "        a0 , z1 , a1 , z2, a2 = forward_prop(trainData[num_batch * batch: (num_batch + 1)*batch, :])\n",
    "        pred = a2\n",
    "        label_batch = trainlabel[num_batch * batch: (num_batch + 1) * batch, :]\n",
    "        del2 = (pred - label_batch)\n",
    "        del1 = np.dot(del2,w2.T)*(1 - a1**2)\n",
    "        dcdw2 = np.dot(a1.T,del2)\n",
    "        dcdw1 = np.dot(a0.T , del1)\n",
    "        dcdb1 = np.sum(del1 ,axis=0)\n",
    "        dcdb2 = np.sum(del2 , axis =0)\n",
    "        w1 = w1 - alpha * dcdw1\n",
    "        w2 = w2 - alpha * dcdw2\n",
    "        b1 = b1 - alpha * dcdb1\n",
    "        b2 = b2 - alpha * dcdb2 \n",
    "        a0 , z1 , a1 , z2, a2 = forward_prop(trainData[num_batch * batch: (num_batch+1)*batch,:])\n",
    "        print('Training Accuracy : ',accuracy(a2,trainlabel,trainData.shape[0]))\n",
    "        "
   ]
  },
  {
   "cell_type": "code",
   "execution_count": null,
   "id": "b688bf1a-07a0-44c9-8a4f-3519030e6db8",
   "metadata": {},
   "outputs": [],
   "source": []
  },
  {
   "cell_type": "code",
   "execution_count": null,
   "id": "96722484-efac-42e0-a77e-bd3325e2d807",
   "metadata": {},
   "outputs": [],
   "source": []
  }
 ],
 "metadata": {
  "kernelspec": {
   "display_name": "Python 3 (ipykernel)",
   "language": "python",
   "name": "python3"
  },
  "language_info": {
   "codemirror_mode": {
    "name": "ipython",
    "version": 3
   },
   "file_extension": ".py",
   "mimetype": "text/x-python",
   "name": "python",
   "nbconvert_exporter": "python",
   "pygments_lexer": "ipython3",
   "version": "3.11.4"
  }
 },
 "nbformat": 4,
 "nbformat_minor": 5
}
